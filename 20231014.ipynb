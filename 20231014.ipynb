{
 "cells": [
  {
   "cell_type": "code",
   "execution_count": null,
   "metadata": {},
   "outputs": [],
   "source": [
    "words = list(open('dict.txt', encoding='utf-8'))[0].split(', ')\n",
    "for word in words:\n",
    "    okay = False\n",
    "    augmented = word\n",
    "    for i in 'ниес':\n",
    "        augmented = augmented.replace(i, '*')\n",
    "    augmented = augmented.replace('**', '*')\n",
    "    while not okay:\n",
    "        answer = input(augmented)\n",
    "        if answer == word:\n",
    "            okay = True\n",
    "    input(f'Молодец! {word}')\n"
   ]
  },
  {
   "cell_type": "code",
   "execution_count": 3,
   "metadata": {},
   "outputs": [],
   "source": [
    "\n"
   ]
  }
 ],
 "metadata": {
  "kernelspec": {
   "display_name": "Python 3",
   "language": "python",
   "name": "python3"
  },
  "language_info": {
   "codemirror_mode": {
    "name": "ipython",
    "version": 3
   },
   "file_extension": ".py",
   "mimetype": "text/x-python",
   "name": "python",
   "nbconvert_exporter": "python",
   "pygments_lexer": "ipython3",
   "version": "3.11.1"
  },
  "orig_nbformat": 4
 },
 "nbformat": 4,
 "nbformat_minor": 2
}
