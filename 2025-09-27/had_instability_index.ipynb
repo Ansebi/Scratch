{
 "cells": [
  {
   "cell_type": "markdown",
   "metadata": {},
   "source": [
    "# Start"
   ]
  },
  {
   "cell_type": "code",
   "execution_count": 2,
   "metadata": {},
   "outputs": [],
   "source": [
    "import numpy as np\n",
    "import pandas as pd"
   ]
  },
  {
   "cell_type": "code",
   "execution_count": 3,
   "metadata": {},
   "outputs": [],
   "source": [
    "def generate_population():\n",
    "    pass"
   ]
  },
  {
   "cell_type": "raw",
   "metadata": {
    "vscode": {
     "languageId": "raw"
    }
   },
   "source": [
    "size = 1000\n",
    "n_bins = 10\n",
    "from_ = 0\n",
    "to_ = from_ + n_bins\n",
    "\n",
    "available_values = np.arange(from_, to_)\n",
    "np.random.choice(available_values, n_bins, replace=True)"
   ]
  },
  {
   "cell_type": "raw",
   "metadata": {
    "vscode": {
     "languageId": "raw"
    }
   },
   "source": [
    "feature = 'value'\n",
    "size = 10\n",
    "n_bins = 5\n",
    "from_ = 0\n",
    "to_ = from_ + n_bins\n",
    "np.random.randint(from_, to_, size=size)"
   ]
  },
  {
   "cell_type": "code",
   "execution_count": 18,
   "metadata": {},
   "outputs": [],
   "source": [
    "def get_had_dataframe(\n",
    "    a: np.array,\n",
    "    b: np.array,\n",
    "    v_a: str = 'A',\n",
    "    v_b: str = 'B',\n",
    "    feature: str = 'value'\n",
    ") -> pd.DataFrame:\n",
    "    a = pd.Series(a)\n",
    "    b = pd.Series(b)\n",
    "    size_nonnull_a = a.count()\n",
    "    size_nonnull_b = b.count()\n",
    "\n",
    "    if all((not size_nonnull_a, not size_nonnull_b)):\n",
    "        raise ValueError('Both arrays are empty.')\n",
    "    if not size_nonnull_a:\n",
    "        raise ValueError('Array A is empty.')\n",
    "    if not size_nonnull_b:\n",
    "        raise ValueError('Array B is empty.')\n",
    "\n",
    "    df_a = pd.DataFrame(a, columns=[feature])\n",
    "    df_b = pd.DataFrame(b, columns=[feature])\n",
    "\n",
    "    df_a = df_a.groupby(feature, as_index=False)\\\n",
    "        .size()\\\n",
    "        .rename(columns={'size': f'count_{v_a}'})\n",
    "    df_a[f'bin_fraction_{v_a}'] = df_a[f'count_{v_a}'] / size_nonnull_a\n",
    "\n",
    "    df_b = df_b.groupby(feature, as_index=False)\\\n",
    "        .size()\\\n",
    "        .rename(columns={'size': f'count_{v_b}'})\n",
    "    df_b[f'bin_fraction_{v_b}'] = df_b[f'count_{v_b}'] / size_nonnull_b\n",
    "\n",
    "    df_had = df_a.merge(df_b, how='outer', on=feature).fillna(0)\n",
    "    df_had['diff'] = df_had[f'bin_fraction_{v_b}'] - df_had[f'bin_fraction_{v_a}']\n",
    "    df_had['half_abs_diff'] = df_had['diff'].abs() / 2\n",
    "    return df_had\n"
   ]
  },
  {
   "cell_type": "code",
   "execution_count": 25,
   "metadata": {},
   "outputs": [],
   "source": [
    "# a = ['a', 'a', 'a', 'b', 'b', 'c', 'c', 'c', 'c', 'c', 'c', 'd']\n",
    "# b = ['a', 'a', 'a', 'a', 'c', 'c', 'c', 'c', 'c', 'c', 'c', 'd', 'd']\n",
    "# a = [None]\n",
    "# b = [None]\n",
    "a = [1,1,1]\n",
    "b = [None, None, 1, 1]"
   ]
  },
  {
   "cell_type": "code",
   "execution_count": 22,
   "metadata": {},
   "outputs": [
    {
     "data": {
      "text/html": [
       "<div>\n",
       "<style scoped>\n",
       "    .dataframe tbody tr th:only-of-type {\n",
       "        vertical-align: middle;\n",
       "    }\n",
       "\n",
       "    .dataframe tbody tr th {\n",
       "        vertical-align: top;\n",
       "    }\n",
       "\n",
       "    .dataframe thead th {\n",
       "        text-align: right;\n",
       "    }\n",
       "</style>\n",
       "<table border=\"1\" class=\"dataframe\">\n",
       "  <thead>\n",
       "    <tr style=\"text-align: right;\">\n",
       "      <th></th>\n",
       "      <th>value</th>\n",
       "      <th>count_A</th>\n",
       "      <th>bin_fraction_A</th>\n",
       "      <th>count_B</th>\n",
       "      <th>bin_fraction_B</th>\n",
       "      <th>diff</th>\n",
       "      <th>half_abs_diff</th>\n",
       "    </tr>\n",
       "  </thead>\n",
       "  <tbody>\n",
       "    <tr>\n",
       "      <th>0</th>\n",
       "      <td>1.0</td>\n",
       "      <td>3.0</td>\n",
       "      <td>1.0</td>\n",
       "      <td>2</td>\n",
       "      <td>0.5</td>\n",
       "      <td>-0.5</td>\n",
       "      <td>0.25</td>\n",
       "    </tr>\n",
       "    <tr>\n",
       "      <th>1</th>\n",
       "      <td>2.0</td>\n",
       "      <td>0.0</td>\n",
       "      <td>0.0</td>\n",
       "      <td>2</td>\n",
       "      <td>0.5</td>\n",
       "      <td>0.5</td>\n",
       "      <td>0.25</td>\n",
       "    </tr>\n",
       "  </tbody>\n",
       "</table>\n",
       "</div>"
      ],
      "text/plain": [
       "   value  count_A  bin_fraction_A  count_B  bin_fraction_B  diff  \\\n",
       "0    1.0      3.0             1.0        2             0.5  -0.5   \n",
       "1    2.0      0.0             0.0        2             0.5   0.5   \n",
       "\n",
       "   half_abs_diff  \n",
       "0           0.25  \n",
       "1           0.25  "
      ]
     },
     "execution_count": 22,
     "metadata": {},
     "output_type": "execute_result"
    }
   ],
   "source": [
    "df_had = get_had_dataframe(a, b)\n",
    "df_had"
   ]
  },
  {
   "cell_type": "code",
   "execution_count": 24,
   "metadata": {},
   "outputs": [
    {
     "data": {
      "text/html": [
       "<div>\n",
       "<style scoped>\n",
       "    .dataframe tbody tr th:only-of-type {\n",
       "        vertical-align: middle;\n",
       "    }\n",
       "\n",
       "    .dataframe tbody tr th {\n",
       "        vertical-align: top;\n",
       "    }\n",
       "\n",
       "    .dataframe thead th {\n",
       "        text-align: right;\n",
       "    }\n",
       "</style>\n",
       "<table border=\"1\" class=\"dataframe\">\n",
       "  <thead>\n",
       "    <tr style=\"text-align: right;\">\n",
       "      <th></th>\n",
       "      <th>value</th>\n",
       "      <th>count_A</th>\n",
       "      <th>bin_fraction_A</th>\n",
       "      <th>count_B</th>\n",
       "      <th>bin_fraction_B</th>\n",
       "      <th>diff</th>\n",
       "      <th>half_abs_diff</th>\n",
       "      <th>ratio</th>\n",
       "      <th>psi</th>\n",
       "    </tr>\n",
       "  </thead>\n",
       "  <tbody>\n",
       "    <tr>\n",
       "      <th>0</th>\n",
       "      <td>1.0</td>\n",
       "      <td>3.0</td>\n",
       "      <td>1.0</td>\n",
       "      <td>2</td>\n",
       "      <td>0.5</td>\n",
       "      <td>-0.5</td>\n",
       "      <td>0.25</td>\n",
       "      <td>0.5</td>\n",
       "      <td>0.346574</td>\n",
       "    </tr>\n",
       "    <tr>\n",
       "      <th>1</th>\n",
       "      <td>2.0</td>\n",
       "      <td>0.0</td>\n",
       "      <td>0.0</td>\n",
       "      <td>2</td>\n",
       "      <td>0.5</td>\n",
       "      <td>0.5</td>\n",
       "      <td>0.25</td>\n",
       "      <td>500000000.0</td>\n",
       "      <td>10.015059</td>\n",
       "    </tr>\n",
       "  </tbody>\n",
       "</table>\n",
       "</div>"
      ],
      "text/plain": [
       "   value  count_A  bin_fraction_A  count_B  bin_fraction_B  diff  \\\n",
       "0    1.0      3.0             1.0        2             0.5  -0.5   \n",
       "1    2.0      0.0             0.0        2             0.5   0.5   \n",
       "\n",
       "   half_abs_diff        ratio        psi  \n",
       "0           0.25          0.5   0.346574  \n",
       "1           0.25  500000000.0  10.015059  "
      ]
     },
     "execution_count": 24,
     "metadata": {},
     "output_type": "execute_result"
    }
   ],
   "source": [
    "epsilon = 10**-9\n",
    "df_had['ratio'] = df_had[f'bin_fraction_{v_b}'] / (df_had[f'bin_fraction_{v_a}'] + epsilon)\n",
    "df_had['psi'] = df_had['diff'] * np.log(df_had['ratio'])\n",
    "df_had"
   ]
  },
  {
   "cell_type": "markdown",
   "metadata": {},
   "source": [
    "# End"
   ]
  }
 ],
 "metadata": {
  "kernelspec": {
   "display_name": "Python 3",
   "language": "python",
   "name": "python3"
  },
  "language_info": {
   "codemirror_mode": {
    "name": "ipython",
    "version": 3
   },
   "file_extension": ".py",
   "mimetype": "text/x-python",
   "name": "python",
   "nbconvert_exporter": "python",
   "pygments_lexer": "ipython3",
   "version": "3.11.1"
  }
 },
 "nbformat": 4,
 "nbformat_minor": 2
}
