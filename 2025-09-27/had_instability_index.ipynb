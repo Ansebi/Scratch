{
 "cells": [
  {
   "cell_type": "markdown",
   "metadata": {},
   "source": [
    "# Start"
   ]
  },
  {
   "cell_type": "code",
   "execution_count": 2,
   "metadata": {},
   "outputs": [],
   "source": [
    "import numpy as np\n",
    "import pandas as pd"
   ]
  },
  {
   "cell_type": "code",
   "execution_count": 3,
   "metadata": {},
   "outputs": [],
   "source": [
    "def generate_population():\n",
    "    pass"
   ]
  },
  {
   "cell_type": "raw",
   "metadata": {
    "vscode": {
     "languageId": "raw"
    }
   },
   "source": [
    "size = 1000\n",
    "n_bins = 10\n",
    "from_ = 0\n",
    "to_ = from_ + n_bins\n",
    "\n",
    "available_values = np.arange(from_, to_)\n",
    "np.random.choice(available_values, n_bins, replace=True)"
   ]
  },
  {
   "cell_type": "raw",
   "metadata": {
    "vscode": {
     "languageId": "raw"
    }
   },
   "source": [
    "feature = 'value'\n",
    "size = 10\n",
    "n_bins = 5\n",
    "from_ = 0\n",
    "to_ = from_ + n_bins\n",
    "np.random.randint(from_, to_, size=size)"
   ]
  },
  {
   "cell_type": "code",
   "execution_count": 6,
   "metadata": {},
   "outputs": [],
   "source": [
    "def get_had_dataframe(\n",
    "    a: np.array,\n",
    "    b: np.array,\n",
    "    v_a: str = 'A',\n",
    "    v_b: str = 'B',\n",
    "    feature: str = 'value'\n",
    ") -> pd.DataFrame:\n",
    "    a = pd.Series(a)\n",
    "    b = pd.Series(b)\n",
    "    size_nonnull_a = a.count()\n",
    "    size_nonnull_b = b.count()\n",
    "\n",
    "    if all((not size_nonnull_a, not size_nonnull_b)):\n",
    "        raise ValueError('Both arrays are empty.')\n",
    "    if not size_nonnull_a:\n",
    "        raise ValueError('Array A is empty.')\n",
    "    if not size_nonnull_b:\n",
    "        raise ValueError('Array B is empty.')\n",
    "\n",
    "    df_a = pd.DataFrame(a, columns=[feature])\n",
    "    df_b = pd.DataFrame(b, columns=[feature])\n",
    "\n",
    "    df_a = df_a.groupby(feature, as_index=False)\\\n",
    "        .size()\\\n",
    "        .rename(columns={'size': f'count_{v_a}'})\n",
    "    df_a[f'bin_fraction_{v_a}'] = df_a[f'count_{v_a}'] / size_nonnull_a\n",
    "\n",
    "    df_b = df_b.groupby(feature, as_index=False)\\\n",
    "        .size()\\\n",
    "        .rename(columns={'size': f'count_{v_b}'})\n",
    "    df_b[f'bin_fraction_{v_b}'] = df_b[f'count_{v_b}'] / size_nonnull_b\n",
    "\n",
    "    df_had = df_a.merge(df_b, how='outer', on=feature).fillna(0)\n",
    "    df_had['diff'] = df_had[f'bin_fraction_{v_b}'] - df_had[f'bin_fraction_{v_a}']\n",
    "    df_had['half_abs_diff'] = df_had['diff'].abs() / 2\n",
    "    return df_had\n"
   ]
  },
  {
   "cell_type": "code",
   "execution_count": null,
   "metadata": {},
   "outputs": [],
   "source": [
    "# a = ['a', 'a', 'a', 'b', 'b', 'c', 'c', 'c', 'c', 'c', 'c', 'd']\n",
    "# b = ['a', 'a', 'a', 'a', 'c', 'c', 'c', 'c', 'c', 'c', 'c', 'd', 'd']\n",
    "# a = [None]\n",
    "# b = [None]\n",
    "# a = [1, 1, 1]\n",
    "# b = [None, None, 1, 2]\n",
    "# a = np.ones(1000)\n",
    "# b = np.concatenate([np.ones(500), np.ones(500) * 2])"
   ]
  },
  {
   "cell_type": "code",
   "execution_count": null,
   "metadata": {},
   "outputs": [],
   "source": [
    "a = [1, 2, 3, 1, 2, 3, 1, 2, 3]\n",
    "b = [1, 1, 3, 2, 2, 3, 3, 2, 3]\n",
    "a = np.random.randint(0, 10, 10000000)\n",
    "b = np.random.randint(0, 10, 10000000)\n",
    "a = np.tile(np.arange(1000), 1000)\n",
    "b = np.concatenate([a, [1001]])"
   ]
  },
  {
   "cell_type": "markdown",
   "metadata": {},
   "source": [
    "## Half"
   ]
  },
  {
   "cell_type": "code",
   "execution_count": 98,
   "metadata": {},
   "outputs": [
    {
     "name": "stdout",
     "output_type": "stream",
     "text": [
      "a: [0 0 1 1 2 2 3 3 4 4 5 5 6 6 7 7 8 8]\n",
      "b: [9 0 9 1 9 2 9 3 9 4 9 5 9 6 9 7 9 8]\n"
     ]
    }
   ],
   "source": [
    "n_bins = 9\n",
    "n_samples_per_bin = 2\n",
    "a = np.array([[j for i in range(n_samples_per_bin)] for j in range(n_bins)]).flatten()\n",
    "b = np.array([[n_bins, j] for j in range(n_bins)]).flatten()\n",
    "print('a:', a)\n",
    "print('b:', b)\n"
   ]
  },
  {
   "cell_type": "code",
   "execution_count": 99,
   "metadata": {},
   "outputs": [
    {
     "data": {
      "text/html": [
       "<div>\n",
       "<style scoped>\n",
       "    .dataframe tbody tr th:only-of-type {\n",
       "        vertical-align: middle;\n",
       "    }\n",
       "\n",
       "    .dataframe tbody tr th {\n",
       "        vertical-align: top;\n",
       "    }\n",
       "\n",
       "    .dataframe thead th {\n",
       "        text-align: right;\n",
       "    }\n",
       "</style>\n",
       "<table border=\"1\" class=\"dataframe\">\n",
       "  <thead>\n",
       "    <tr style=\"text-align: right;\">\n",
       "      <th></th>\n",
       "      <th>0</th>\n",
       "    </tr>\n",
       "  </thead>\n",
       "  <tbody>\n",
       "    <tr>\n",
       "      <th>value</th>\n",
       "      <td>45.000000</td>\n",
       "    </tr>\n",
       "    <tr>\n",
       "      <th>count_A</th>\n",
       "      <td>18.000000</td>\n",
       "    </tr>\n",
       "    <tr>\n",
       "      <th>bin_fraction_A</th>\n",
       "      <td>1.000000</td>\n",
       "    </tr>\n",
       "    <tr>\n",
       "      <th>count_B</th>\n",
       "      <td>18.000000</td>\n",
       "    </tr>\n",
       "    <tr>\n",
       "      <th>bin_fraction_B</th>\n",
       "      <td>1.000000</td>\n",
       "    </tr>\n",
       "    <tr>\n",
       "      <th>diff</th>\n",
       "      <td>0.000000</td>\n",
       "    </tr>\n",
       "    <tr>\n",
       "      <th>half_abs_diff</th>\n",
       "      <td>0.500000</td>\n",
       "    </tr>\n",
       "    <tr>\n",
       "      <th>ratio</th>\n",
       "      <td>-2147.483648</td>\n",
       "    </tr>\n",
       "    <tr>\n",
       "      <th>psi</th>\n",
       "      <td>1381.551055</td>\n",
       "    </tr>\n",
       "  </tbody>\n",
       "</table>\n",
       "</div>"
      ],
      "text/plain": [
       "                          0\n",
       "value             45.000000\n",
       "count_A           18.000000\n",
       "bin_fraction_A     1.000000\n",
       "count_B           18.000000\n",
       "bin_fraction_B     1.000000\n",
       "diff               0.000000\n",
       "half_abs_diff      0.500000\n",
       "ratio          -2147.483648\n",
       "psi             1381.551055"
      ]
     },
     "execution_count": 99,
     "metadata": {},
     "output_type": "execute_result"
    }
   ],
   "source": [
    "\n",
    "df_had = get_had_dataframe(a, b)\n",
    "# df_had.sum().to_frame()\n",
    "\n",
    "epsilon = 10**-12\n",
    "df_had['ratio'] = df_had[f'bin_fraction_B'] / (df_had[f'bin_fraction_A'] + epsilon)\n",
    "df_had['psi'] = 100 * df_had['diff'] * np.log(df_had['ratio'] + epsilon)\n",
    "(df_had.sum(numeric_only=True).to_frame() * 1000000).astype(int) / 1000000"
   ]
  },
  {
   "cell_type": "markdown",
   "metadata": {},
   "source": [
    "## 10%"
   ]
  },
  {
   "cell_type": "code",
   "execution_count": 130,
   "metadata": {},
   "outputs": [
    {
     "data": {
      "text/html": [
       "<div>\n",
       "<style scoped>\n",
       "    .dataframe tbody tr th:only-of-type {\n",
       "        vertical-align: middle;\n",
       "    }\n",
       "\n",
       "    .dataframe tbody tr th {\n",
       "        vertical-align: top;\n",
       "    }\n",
       "\n",
       "    .dataframe thead th {\n",
       "        text-align: right;\n",
       "    }\n",
       "</style>\n",
       "<table border=\"1\" class=\"dataframe\">\n",
       "  <thead>\n",
       "    <tr style=\"text-align: right;\">\n",
       "      <th></th>\n",
       "      <th>0</th>\n",
       "    </tr>\n",
       "  </thead>\n",
       "  <tbody>\n",
       "    <tr>\n",
       "      <th>value</th>\n",
       "      <td>10.0</td>\n",
       "    </tr>\n",
       "    <tr>\n",
       "      <th>count_A</th>\n",
       "      <td>10.0</td>\n",
       "    </tr>\n",
       "    <tr>\n",
       "      <th>bin_fraction_A</th>\n",
       "      <td>1.0</td>\n",
       "    </tr>\n",
       "    <tr>\n",
       "      <th>count_B</th>\n",
       "      <td>10.0</td>\n",
       "    </tr>\n",
       "    <tr>\n",
       "      <th>bin_fraction_B</th>\n",
       "      <td>1.0</td>\n",
       "    </tr>\n",
       "    <tr>\n",
       "      <th>diff</th>\n",
       "      <td>0.0</td>\n",
       "    </tr>\n",
       "    <tr>\n",
       "      <th>half_abs_diff</th>\n",
       "      <td>0.1</td>\n",
       "    </tr>\n",
       "  </tbody>\n",
       "</table>\n",
       "</div>"
      ],
      "text/plain": [
       "                   0\n",
       "value           10.0\n",
       "count_A         10.0\n",
       "bin_fraction_A   1.0\n",
       "count_B         10.0\n",
       "bin_fraction_B   1.0\n",
       "diff             0.0\n",
       "half_abs_diff    0.1"
      ]
     },
     "execution_count": 130,
     "metadata": {},
     "output_type": "execute_result"
    }
   ],
   "source": [
    "a = np.concatenate(\n",
    "    [\n",
    "        np.ones(1) * 1,\n",
    "        np.ones(2) * 2,\n",
    "        np.ones(3) * 3,\n",
    "        np.ones(4) * 4,\n",
    "    ]\n",
    ")\n",
    "b = np.concatenate(\n",
    "    [\n",
    "        np.ones(1) * 1,\n",
    "        np.ones(2) * 2,\n",
    "        np.ones(3) * 4,\n",
    "        np.ones(4) * 3,\n",
    "    ]\n",
    ")\n",
    "\n",
    "(get_had_dataframe(a, b).sum().to_frame() * 100).astype(int) / 100"
   ]
  },
  {
   "cell_type": "markdown",
   "metadata": {},
   "source": [
    "# End"
   ]
  }
 ],
 "metadata": {
  "kernelspec": {
   "display_name": "Python 3",
   "language": "python",
   "name": "python3"
  },
  "language_info": {
   "codemirror_mode": {
    "name": "ipython",
    "version": 3
   },
   "file_extension": ".py",
   "mimetype": "text/x-python",
   "name": "python",
   "nbconvert_exporter": "python",
   "pygments_lexer": "ipython3",
   "version": "3.11.1"
  }
 },
 "nbformat": 4,
 "nbformat_minor": 2
}
