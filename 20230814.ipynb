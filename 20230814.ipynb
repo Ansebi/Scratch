{
 "cells": [
  {
   "cell_type": "code",
   "execution_count": null,
   "metadata": {},
   "outputs": [],
   "source": [
    "\"\"\"На вход: массив чисел\n",
    "Задача: сформировать новый массив,\n",
    "в котором каждый элемент исходного заменен\n",
    "на произведение всех остальных чисел массива\n",
    "(кроме него самого)\n",
    "Например:\n",
    "[1,2,3] -> [6,3,2]\n",
    "реализовать алгоритм в виде функции.\n",
    "не использовать сторонние библиотеки.\"\"\""
   ]
  },
  {
   "cell_type": "code",
   "execution_count": 3,
   "metadata": {},
   "outputs": [],
   "source": [
    "import numpy as np"
   ]
  },
  {
   "cell_type": "code",
   "execution_count": 1,
   "metadata": {},
   "outputs": [
    {
     "data": {
      "text/plain": [
       "[3, 6, 2, 6]"
      ]
     },
     "execution_count": 1,
     "metadata": {},
     "output_type": "execute_result"
    }
   ],
   "source": [
    "arr = [2, 1, 3, 1]\n",
    "def do_the_job(arr):\n",
    "    length = len(arr)\n",
    "    product = 1\n",
    "    zero_idx = None\n",
    "    for n, i in enumerate(arr):\n",
    "        if i:\n",
    "            product *= i\n",
    "        else:\n",
    "            if zero_idx is None:\n",
    "                zero_idx = n\n",
    "            else:\n",
    "                return [0 for num in range(length)]\n",
    "    if zero_idx is None:\n",
    "        return [int(product/num) for num in arr]\n",
    "    else:\n",
    "        result = [0 for num in range(length)]\n",
    "        result[zero_idx] = product\n",
    "        return result\n",
    "do_the_job(arr)"
   ]
  }
 ],
 "metadata": {
  "kernelspec": {
   "display_name": "Python 3",
   "language": "python",
   "name": "python3"
  },
  "language_info": {
   "codemirror_mode": {
    "name": "ipython",
    "version": 3
   },
   "file_extension": ".py",
   "mimetype": "text/x-python",
   "name": "python",
   "nbconvert_exporter": "python",
   "pygments_lexer": "ipython3",
   "version": "3.11.1"
  },
  "orig_nbformat": 4
 },
 "nbformat": 4,
 "nbformat_minor": 2
}
