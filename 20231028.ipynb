{
 "cells": [
  {
   "cell_type": "code",
   "execution_count": 11,
   "metadata": {},
   "outputs": [],
   "source": [
    "ok = False\n",
    "while not ok:\n",
    "  uval = input('Please input the number between 20 and 60: ')\n",
    "  if uval.isnumeric():\n",
    "    if not float(uval) % 1:\n",
    "      uval = int(float(uval))\n",
    "      if 20 < uval < 60:\n",
    "        ok = True\n",
    "print(uval)\n",
    "num = 2\n",
    "ans = 0\n",
    "while num <= uval:\n",
    "  ans += num\n",
    "  num += 2\n",
    "print(ans)"
   ]
  }
 ],
 "metadata": {
  "kernelspec": {
   "display_name": "Python 3",
   "language": "python",
   "name": "python3"
  },
  "language_info": {
   "codemirror_mode": {
    "name": "ipython",
    "version": 3
   },
   "file_extension": ".py",
   "mimetype": "text/x-python",
   "name": "python",
   "nbconvert_exporter": "python",
   "pygments_lexer": "ipython3",
   "version": "3.11.1"
  },
  "orig_nbformat": 4
 },
 "nbformat": 4,
 "nbformat_minor": 2
}
