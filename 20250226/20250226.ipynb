{
 "cells": [
  {
   "cell_type": "code",
   "execution_count": 9,
   "metadata": {},
   "outputs": [
    {
     "data": {
      "text/plain": [
       "-12.411410064613815"
      ]
     },
     "execution_count": 9,
     "metadata": {},
     "output_type": "execute_result"
    }
   ],
   "source": [
    "income_year_0 = 12000\n",
    "n_years_total = 10\n",
    "n_years_tenancy = 2\n",
    "market_yearly_increase_percent = 10\n",
    "tenancy_yearly_increase_percent = 5\n",
    "\n",
    "\n",
    "# For simplicity le us assume that total time of experiment\n",
    "# has a whole number of average tenancy periods\n",
    "assert not n_years_total % n_years_tenancy\n",
    "\n",
    "\n",
    "def k(percent):  # increase/decrease coefficient\n",
    "    return (100 + percent) / 100\n",
    "\n",
    "\n",
    "def increase_yearly_income(income, increase_percent, n_years):\n",
    "    return income * k(increase_percent) ** n_years\n",
    "\n",
    "\n",
    "def add_income(income_sum, yearly_income, yearly_increase_percent, n_years):\n",
    "    income_sum += yearly_income\n",
    "    n_years -= 1\n",
    "    yearly_income = increase_yearly_income(yearly_income, yearly_increase_percent, n_years=1)\n",
    "    if n_years:        \n",
    "        income_sum = add_income(income_sum, yearly_income, yearly_increase_percent, n_years)\n",
    "    return income_sum\n",
    "\n",
    "\n",
    "income_ideal = add_income(0, income_year_0, market_yearly_increase_percent, n_years_total)\n",
    "\n",
    "\n",
    "# Assumptions here:\n",
    "# a) the new tenant jumps into the property the same second as the previous leaves it\n",
    "# b) condition that '''If a tenant leaves the property and it goes on the market, the rental rate increases by an average of 10%'''\n",
    "#  is correct and the fact of leaving the property triggers the instant 10% raise regardless of circumstances\n",
    "# (e.g. if we have people leaving twice a month)\n",
    "# If we have typical time thresholds between the tenants and operational expenses,\n",
    "# it may occur that it is better to have them with 5% if it retains the tenant\n",
    "# These parameters can be added and considered\n",
    "\n",
    "income_tenancy = 0\n",
    "base_yearly_income = income_year_0\n",
    "for _ in range(n_years_total // n_years_tenancy):\n",
    "    income_tenancy += add_income(0, base_yearly_income, tenancy_yearly_increase_percent, n_years_tenancy)\n",
    "    base_yearly_income = increase_yearly_income(base_yearly_income, tenancy_yearly_increase_percent, n_years_tenancy-1)\n",
    "    base_yearly_income = increase_yearly_income(base_yearly_income, market_yearly_increase_percent, 1)\n",
    "\n",
    "difference_percent = 100 * (income_tenancy - income_ideal) / income_ideal\n",
    "difference_percent"
   ]
  },
  {
   "cell_type": "code",
   "execution_count": 11,
   "metadata": {},
   "outputs": [
    {
     "data": {
      "text/plain": [
       "-23736.709451625036"
      ]
     },
     "execution_count": 11,
     "metadata": {},
     "output_type": "execute_result"
    }
   ],
   "source": [
    "income_tenancy - income_ideal"
   ]
  },
  {
   "cell_type": "code",
   "execution_count": 10,
   "metadata": {},
   "outputs": [
    {
     "data": {
      "text/plain": [
       "167512.38576037504"
      ]
     },
     "execution_count": 10,
     "metadata": {},
     "output_type": "execute_result"
    }
   ],
   "source": [
    "income_tenancy"
   ]
  },
  {
   "cell_type": "code",
   "execution_count": 8,
   "metadata": {},
   "outputs": [
    {
     "data": {
      "text/plain": [
       "191249.09521200007"
      ]
     },
     "execution_count": 8,
     "metadata": {},
     "output_type": "execute_result"
    }
   ],
   "source": [
    "income_ideal"
   ]
  },
  {
   "cell_type": "code",
   "execution_count": 4,
   "metadata": {},
   "outputs": [
    {
     "data": {
      "text/plain": [
       "12577.892535548832"
      ]
     },
     "execution_count": 4,
     "metadata": {},
     "output_type": "execute_result"
    }
   ],
   "source": [
    "add_income(0, income_year_0, tenancy_yearly_increase_percent, 10)"
   ]
  },
  {
   "cell_type": "code",
   "execution_count": 4,
   "metadata": {},
   "outputs": [
    {
     "name": "stdout",
     "output_type": "stream",
     "text": [
      "5\n",
      "4\n",
      "3\n",
      "2\n",
      "1\n"
     ]
    }
   ],
   "source": [
    "def go_back(a: int):\n",
    "    print(a)\n",
    "    a -= 1    \n",
    "    if a:\n",
    "        go_back(a)\n",
    "    return None\n",
    "\n",
    "go_back(5)"
   ]
  }
 ],
 "metadata": {
  "kernelspec": {
   "display_name": "Python 3",
   "language": "python",
   "name": "python3"
  },
  "language_info": {
   "codemirror_mode": {
    "name": "ipython",
    "version": 3
   },
   "file_extension": ".py",
   "mimetype": "text/x-python",
   "name": "python",
   "nbconvert_exporter": "python",
   "pygments_lexer": "ipython3",
   "version": "3.11.1"
  }
 },
 "nbformat": 4,
 "nbformat_minor": 2
}
