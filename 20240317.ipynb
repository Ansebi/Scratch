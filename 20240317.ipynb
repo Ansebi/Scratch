{
 "cells": [
  {
   "attachments": {},
   "cell_type": "markdown",
   "metadata": {},
   "source": [
    "![Alt text](image.png)"
   ]
  },
  {
   "cell_type": "code",
   "execution_count": 10,
   "metadata": {},
   "outputs": [
    {
     "name": "stdout",
     "output_type": "stream",
     "text": [
      "n=40, it is even => s=40\n",
      "n=41, it is odd => s=40\n",
      "n=42, it is even => s=82\n",
      "n=43, it is odd => s=82\n",
      "n=44, it is even => s=126\n",
      "n=45, it is odd => s=126\n",
      "n=46, it is even => s=172\n",
      "n=47, it is odd => s=172\n",
      "n=48, it is even => s=220\n",
      "n=49, it is odd => s=220\n",
      "s=220\n"
     ]
    }
   ],
   "source": [
    "n = 40\n",
    "s = 0\n",
    "\n",
    "while n < 50:\n",
    "    parity = 'odd'\n",
    "    if not n % 2:\n",
    "        parity = 'even'\n",
    "        s += n\n",
    "    print(f'{n=}, it is {parity} => {s=}')\n",
    "    n += 1\n",
    "print(f'{s=}')\n",
    "        \n"
   ]
  }
 ],
 "metadata": {
  "kernelspec": {
   "display_name": "Python 3",
   "language": "python",
   "name": "python3"
  },
  "language_info": {
   "codemirror_mode": {
    "name": "ipython",
    "version": 3
   },
   "file_extension": ".py",
   "mimetype": "text/x-python",
   "name": "python",
   "nbconvert_exporter": "python",
   "pygments_lexer": "ipython3",
   "version": "3.11.1"
  },
  "orig_nbformat": 4
 },
 "nbformat": 4,
 "nbformat_minor": 2
}
