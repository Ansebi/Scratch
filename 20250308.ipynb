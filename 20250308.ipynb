{
 "cells": [
  {
   "cell_type": "raw",
   "metadata": {
    "vscode": {
     "languageId": "raw"
    }
   },
   "source": [
    "\\begin{figure}\n",
    "    \\centering\n",
    "    \\resizebox{\\columnwidth}{!}{\n",
    "            \\begin{tabular}{ccc}\n",
    "            \\includegraphics[width=0.2\\textwidth, trim=0cm 0cm 0cm 0cm, clip=true]{images/kodim23-attack-defense/kodim23_ai.png} &\n",
    "            \\includegraphics[width=0.2\\textwidth, trim=0cm 0cm 0cm 0cm, clip=true]{images/kodim23-attack-defense/kodim23_ao.png} &\n",
    "            \\includegraphics[width=0.2\\textwidth, trim=0cm 0cm 0cm 0cm, clip=true]{images/kodim23-attack-defense/kodim23_an.png}\n",
    "\n",
    "            \\\\\n",
    "\n",
    "            \\includegraphics[width=0.2\\textwidth, trim=0cm 0cm 0cm 0cm, clip=true]{images/kodim23-attack-defense/kodim23_di.png} &\n",
    "            \\includegraphics[width=0.2\\textwidth, trim=0cm 0cm 0cm 0cm, clip=true]{images/kodim23-attack-defense/kodim23_do.png} &\n",
    "            \\includegraphics[width=0.2\\textwidth, trim=0cm 0cm 0cm 0cm, clip=true]{images/kodim23-attack-defense/kodim23_dn.png}\n",
    "        \\end{tabular}        \n",
    "    }\n",
    "    \\caption{Maxdistortion attack and defense on kodim23 image for cheng2020-attn model. First row: attacked input, attacked output, attack noise; second row: defended input, defended output, defense noise.}\n",
    "    \\label{fig:kodim23_attack_defense}\n",
    "\\end{figure}"
   ]
  }
 ],
 "metadata": {
  "language_info": {
   "name": "python"
  }
 },
 "nbformat": 4,
 "nbformat_minor": 2
}
