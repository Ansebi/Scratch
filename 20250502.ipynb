{
 "cells": [
  {
   "cell_type": "markdown",
   "metadata": {},
   "source": [
    "Pick N representative samples from an 1-D array based on their value"
   ]
  },
  {
   "cell_type": "markdown",
   "metadata": {},
   "source": [
    "# Start"
   ]
  },
  {
   "cell_type": "code",
   "execution_count": 1,
   "metadata": {},
   "outputs": [],
   "source": [
    "import numpy as np\n",
    "import matplotlib.pyplot as plt"
   ]
  },
  {
   "cell_type": "code",
   "execution_count": 2,
   "metadata": {},
   "outputs": [],
   "source": [
    "def detect_gaps(a_unique: np.array) -> bool:\n",
    "    '''heuristic to avoid empty bins'''\n",
    "    bin_width = (a_unique.max() - a_unique.min()) / (n - 1)\n",
    "    gap_detected = False\n",
    "    dist = 0\n",
    "    for i in range(len(a_unique)-1):\n",
    "        prev_dist = dist\n",
    "        dist = a_unique[i+1] - a_unique[i]\n",
    "        if dist + prev_dist > 2 * bin_width:\n",
    "            gap_detected = True\n",
    "    return gap_detected"
   ]
  },
  {
   "cell_type": "code",
   "execution_count": 15,
   "metadata": {},
   "outputs": [],
   "source": [
    "def prepare_array(arr: np.array, n: int):\n",
    "    a_unique = np.unique(arr)\n",
    "    if len(a_unique) < n:\n",
    "        err_msg = f'N={n} is higher than the number of unique values.'\n",
    "        raise ValueError(err_msg)\n",
    "    return a_unique"
   ]
  },
  {
   "cell_type": "code",
   "execution_count": 3,
   "metadata": {},
   "outputs": [],
   "source": [
    "def prepare_bins(a_unique: np.array, n: int) -> tuple:\n",
    "    a_linspace = np.linspace(\n",
    "        a_unique.min(),\n",
    "        a_unique.max(),\n",
    "        n * 2 - 1\n",
    "    )\n",
    "    bin_borders = a_linspace[1::2]\n",
    "    bin_centers = a_linspace[::2]\n",
    "    bins = {}\n",
    "    for i in range(len(bin_borders)-1):\n",
    "        bins[i] = {\n",
    "            'left': bin_borders[i],\n",
    "            'right': bin_borders[i+1],\n",
    "            'center': bin_centers[i],\n",
    "            'values': []\n",
    "        }\n",
    "    return bins, bin_borders, bin_centers"
   ]
  },
  {
   "cell_type": "code",
   "execution_count": 4,
   "metadata": {},
   "outputs": [],
   "source": [
    "def split_into_bins(bins: dict, a_unique: np.array) -> dict:    \n",
    "    n_bins = len(bins)\n",
    "    current_bin = 0\n",
    "    for val in a_unique[1: -1]:\n",
    "        val_is_in_bin = False\n",
    "        while not val_is_in_bin:\n",
    "            val_is_in_bin = bins[current_bin]['left'] <= val\n",
    "            val_is_in_bin &= bins[current_bin]['right'] > val\n",
    "            if not val_is_in_bin:\n",
    "                current_bin += 1\n",
    "            if current_bin >= n_bins:\n",
    "                break\n",
    "        if current_bin >= n_bins:\n",
    "            break\n",
    "        else:\n",
    "            bins[current_bin]['values'].append(val)\n",
    "    return bins"
   ]
  },
  {
   "cell_type": "code",
   "execution_count": 5,
   "metadata": {},
   "outputs": [],
   "source": [
    "def plot(a_unique: np.array, bin_borders: np.array, bin_centers: np.array):\n",
    "    plt.figure(figsize=(10, 1))\n",
    "    #unique values\n",
    "    plt.scatter(\n",
    "        x=a_unique,\n",
    "        y=np.ones_like(a_unique),\n",
    "        c='gray'\n",
    "    )\n",
    "    #bin borders\n",
    "    plt.scatter(\n",
    "        x=bin_borders,\n",
    "        y=np.ones_like(bin_borders),\n",
    "        marker='|',\n",
    "        s=2000,\n",
    "        c='orange'\n",
    "    )\n",
    "    # bin centers\n",
    "    plt.scatter(\n",
    "        x=bin_centers,\n",
    "        y=np.ones_like(bin_centers),\n",
    "        marker='x',\n",
    "        s=20,\n",
    "        c='red'\n",
    "    )\n",
    "    plt.yticks([])\n",
    "    plt.show()\n",
    "    return None"
   ]
  },
  {
   "cell_type": "markdown",
   "metadata": {},
   "source": [
    "# Work"
   ]
  },
  {
   "cell_type": "code",
   "execution_count": 22,
   "metadata": {},
   "outputs": [
    {
     "data": {
      "image/png": "[encoded data removed]",
      "text/plain": [
       "<Figure size 1000x100 with 1 Axes>"
      ]
     },
     "metadata": {},
     "output_type": "display_data"
    }
   ],
   "source": [
    "N = 5\n",
    "a = np.array([1, 2, 3, 3, 3, 4, 5, 11, 29, 30, 30, 31])\n",
    "# a = np.array([1, 2, 3, 3, 3, 4, 5, 11])\n",
    "\n",
    "\n",
    "a_unique = prepare_array(a, N)\n",
    "bins, bin_borders, bin_centers = prepare_bins(a_unique, N)\n",
    "plot(a_unique, bin_borders, bin_centers)"
   ]
  },
  {
   "cell_type": "code",
   "execution_count": 23,
   "metadata": {},
   "outputs": [
    {
     "data": {
      "image/png": "[encoded data removed]",
      "text/plain": [
       "<Figure size 1000x100 with 1 Axes>"
      ]
     },
     "metadata": {},
     "output_type": "display_data"
    }
   ],
   "source": [
    "okay = False\n",
    "n = N\n",
    "count = 0\n",
    "while not okay:\n",
    "    count += 1\n",
    "    bins, bin_borders, bin_centers = prepare_bins(a_unique, n)\n",
    "    # plot(a_unique, bin_borders, bin_centers)\n",
    "    bins = split_into_bins(bins, a_unique)\n",
    "    nonempty_bins = np.sum([1 for bin in bins.values() if bin['values']])\n",
    "    if nonempty_bins < N - 2:\n",
    "        n += 1\n",
    "    else:\n",
    "        okay = True\n",
    "    if count == len(a_unique):\n",
    "        break\n",
    "plot(a_unique, bin_borders, bin_centers)"
   ]
  },
  {
   "cell_type": "code",
   "execution_count": null,
   "metadata": {},
   "outputs": [],
   "source": []
  },
  {
   "cell_type": "code",
   "execution_count": null,
   "metadata": {},
   "outputs": [],
   "source": [
    "nonempty_bins"
   ]
  },
  {
   "cell_type": "code",
   "execution_count": null,
   "metadata": {},
   "outputs": [],
   "source": [
    "bins"
   ]
  },
  {
   "cell_type": "code",
   "execution_count": null,
   "metadata": {},
   "outputs": [],
   "source": [
    "okay = False\n",
    "while not okay:\n",
    "    n += 1\n",
    "    a_linspace = np.linspace(a.min(), a.max(), n * 2 - 1)\n",
    "    bin_borders = a_linspace[1::2]\n",
    "    bin_centers = a_linspace[::2]\n",
    "    gap_detected = detect_gaps(a_unique)\n",
    "\n",
    "\n",
    "plt.figure(figsize=(10, 1))\n",
    "#unique values\n",
    "plt.scatter(\n",
    "    x=a_unique,\n",
    "    y=np.ones_like(a_unique),\n",
    "    c='gray'\n",
    ")\n",
    "#bin borders\n",
    "plt.scatter(\n",
    "    x=bin_borders,\n",
    "    y=np.ones_like(bin_borders),\n",
    "    marker='|',\n",
    "    s=2000,\n",
    "    c='orange'\n",
    ")\n",
    "# bin centers\n",
    "plt.scatter(\n",
    "    x=bin_centers,\n",
    "    y=np.ones_like(bin_centers),\n",
    "    marker='x',\n",
    "    s=20,\n",
    "    c='red'\n",
    ")\n",
    "plt.yticks([])\n",
    "plt.show()"
   ]
  },
  {
   "cell_type": "markdown",
   "metadata": {},
   "source": [
    "split into bins"
   ]
  },
  {
   "cell_type": "markdown",
   "metadata": {},
   "source": [
    "check for empty bins"
   ]
  },
  {
   "cell_type": "code",
   "execution_count": null,
   "metadata": {},
   "outputs": [],
   "source": [
    "split_into_bins(a, N)"
   ]
  }
 ],
 "metadata": {
  "kernelspec": {
   "display_name": "Python 3",
   "language": "python",
   "name": "python3"
  },
  "language_info": {
   "codemirror_mode": {
    "name": "ipython",
    "version": 3
   },
   "file_extension": ".py",
   "mimetype": "text/x-python",
   "name": "python",
   "nbconvert_exporter": "python",
   "pygments_lexer": "ipython3",
   "version": "3.11.1"
  }
 },
 "nbformat": 4,
 "nbformat_minor": 2
}
