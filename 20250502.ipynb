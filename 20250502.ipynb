{
 "cells": [
  {
   "cell_type": "markdown",
   "metadata": {},
   "source": [
    "Pick N representative samples from an 1-D array based on their value"
   ]
  },
  {
   "cell_type": "markdown",
   "metadata": {},
   "source": [
    "# Start"
   ]
  },
  {
   "cell_type": "code",
   "execution_count": 2,
   "metadata": {},
   "outputs": [],
   "source": [
    "import numpy as np\n",
    "import matplotlib.pyplot as plt"
   ]
  },
  {
   "cell_type": "code",
   "execution_count": 3,
   "metadata": {},
   "outputs": [],
   "source": [
    "def detect_gaps(a_unique: np.array) -> bool:\n",
    "    '''heuristic to avoid empty bins'''\n",
    "    bin_width = (a_unique.max() - a_unique.min()) / (n - 1)\n",
    "    gap_detected = False\n",
    "    dist = 0\n",
    "    for i in range(len(a_unique)-1):\n",
    "        prev_dist = dist\n",
    "        dist = a_unique[i+1] - a_unique[i]\n",
    "        if dist + prev_dist > 2 * bin_width:\n",
    "            gap_detected = True\n",
    "    return gap_detected"
   ]
  },
  {
   "cell_type": "code",
   "execution_count": 4,
   "metadata": {},
   "outputs": [],
   "source": [
    "def prepare_array(arr: np.array, n: int):\n",
    "    a_unique = np.unique(arr)\n",
    "    if len(a_unique) < n:\n",
    "        err_msg = f'N={n} is higher than the number of unique values.'\n",
    "        raise ValueError(err_msg)\n",
    "    return a_unique"
   ]
  },
  {
   "cell_type": "code",
   "execution_count": 5,
   "metadata": {},
   "outputs": [],
   "source": [
    "def prepare_bins(a_unique: np.array, n: int) -> tuple:\n",
    "    min_ = a_unique.min()\n",
    "    max_ = a_unique.max()\n",
    "    a_linspace = np.linspace(\n",
    "        min_,\n",
    "        max_,\n",
    "        n * 2 - 1\n",
    "    )\n",
    "    bin_borders = a_linspace[1::2]\n",
    "    bin_borders = np.concatenate([[min_], bin_borders, [max_]])\n",
    "    bin_centers = a_linspace[::2]\n",
    "    bins = {}\n",
    "    for i in range(len(bin_borders)-1):\n",
    "        bins[i] = {\n",
    "            'left': bin_borders[i],\n",
    "            'right': bin_borders[i+1],\n",
    "            'center': bin_centers[i],\n",
    "            'values': []\n",
    "        }\n",
    "    return bins, bin_borders, bin_centers"
   ]
  },
  {
   "cell_type": "code",
   "execution_count": 6,
   "metadata": {},
   "outputs": [],
   "source": [
    "def plot(a_unique: np.array, bin_borders: np.array, bin_centers: np.array):\n",
    "    plt.figure(figsize=(10, 1))\n",
    "    #unique values\n",
    "    plt.scatter(\n",
    "        x=a_unique,\n",
    "        y=np.ones_like(a_unique),\n",
    "        c='gray'\n",
    "    )\n",
    "    #bin borders\n",
    "    plt.scatter(\n",
    "        x=bin_borders[1:-1],\n",
    "        y=np.ones_like(bin_borders[1:-1]),\n",
    "        marker='|',\n",
    "        s=2000,\n",
    "        c='orange'\n",
    "    )\n",
    "    # bin centers\n",
    "    plt.scatter(\n",
    "        x=bin_centers,\n",
    "        y=np.ones_like(bin_centers),\n",
    "        marker='x',\n",
    "        s=20,\n",
    "        c='red'\n",
    "    )\n",
    "    plt.yticks([])\n",
    "    plt.show()\n",
    "    return None"
   ]
  },
  {
   "cell_type": "code",
   "execution_count": 7,
   "metadata": {},
   "outputs": [],
   "source": [
    "def split_into_bins(bins: dict, a_unique: np.array) -> dict:    \n",
    "    n_bins = len(bins)\n",
    "    current_bin = 0\n",
    "    for val in a_unique:\n",
    "        val_is_in_bin = False\n",
    "        # print(f'{val=}', f'{current_bin=}')\n",
    "        if val < bins[current_bin]['left']:\n",
    "            continue\n",
    "        while not val_is_in_bin:\n",
    "            # print(f'{current_bin=}', bins[current_bin]['left'], bins[current_bin]['right'])\n",
    "            val_is_in_bin = bins[current_bin]['left'] <= val\n",
    "            val_is_in_bin &= bins[current_bin]['right'] > val\n",
    "            if not val_is_in_bin:\n",
    "                current_bin += 1\n",
    "            if current_bin >= n_bins:\n",
    "                break\n",
    "        if current_bin >= n_bins:\n",
    "            break\n",
    "        else:\n",
    "            bins[current_bin]['values'].append(val)\n",
    "    bins[current_bin - 1]['values'].append(a_unique[-1])\n",
    "    return bins"
   ]
  },
  {
   "cell_type": "code",
   "execution_count": 12,
   "metadata": {},
   "outputs": [],
   "source": [
    "def prepare_bins_n_observations(a_unique, n, show_plot=False) -> dict:\n",
    "    okay = False\n",
    "    n_adjusted = n\n",
    "    count = 0\n",
    "    while not okay:\n",
    "        count += 1\n",
    "        bins, bin_borders, bin_centers = prepare_bins(a_unique, n_adjusted)\n",
    "        # plot(a_unique, bin_borders, bin_centers)\n",
    "        bins = split_into_bins(bins, a_unique)\n",
    "        count_nonempty_bins = np.sum([1 for bin in bins.values() if bin['values']])\n",
    "        if count_nonempty_bins < n:\n",
    "            n_adjusted += 1\n",
    "        else:\n",
    "            okay = True\n",
    "        if count == len(a_unique):\n",
    "            break\n",
    "    if show_plot:\n",
    "        plot(a_unique, bin_borders, bin_centers)\n",
    "    return bins"
   ]
  },
  {
   "cell_type": "code",
   "execution_count": 13,
   "metadata": {},
   "outputs": [],
   "source": [
    "def get_selection_sequence(bins: dict) -> np.array:\n",
    "    selection_sequence = []\n",
    "    for bin in bins.values():\n",
    "        bin_len = len(bin['values'])\n",
    "        if bin_len:\n",
    "            if bin_len == 1:\n",
    "                selection_sequence.append([1])\n",
    "            else:\n",
    "                central_value_idx = 0\n",
    "                val_0 = bin['values'][central_value_idx]\n",
    "                min_dist_center = np.abs(val_0 - bin['center'])      \n",
    "                for bin_val_idx in range(1, bin_len):\n",
    "                    val = bin['values'][bin_val_idx]\n",
    "                    dist_center = np.abs(val - bin['center'])\n",
    "                    # print(f\"{val=} center={bin['center']} {dist_center=} left={bin['left']} right={bin['right']}\")\n",
    "                    if dist_center < min_dist_center:\n",
    "                        min_dist_center = dist_center\n",
    "                        central_value_idx = bin_val_idx\n",
    "                bin_map = np.zeros(bin_len)\n",
    "                bin_map[central_value_idx] = 1\n",
    "                selection_sequence.append(bin_map)\n",
    "    selection_sequence = np.concatenate(selection_sequence)\n",
    "    return selection_sequence\n",
    "\n"
   ]
  },
  {
   "cell_type": "markdown",
   "metadata": {},
   "source": [
    "# Showcase"
   ]
  },
  {
   "cell_type": "code",
   "execution_count": 17,
   "metadata": {},
   "outputs": [
    {
     "data": {
      "image/png": "[encoded data removed]",
      "text/plain": [
       "<Figure size 1000x100 with 1 Axes>"
      ]
     },
     "metadata": {},
     "output_type": "display_data"
    }
   ],
   "source": [
    "N = 8\n",
    "a = np.array([1, 2, 3, 3, 3, 4, 5, 11, 29, 30, 30, 31, 32, 33, 34, 35, 36, 60, 60, 61, 63])\n",
    "# a = np.array([1, 2, 3, 3, 3, 4, 5, 11, 29, 30, 30, 31])\n",
    "# a = np.array([1, 2, 3, 3, 3, 4, 5, 11])\n",
    "\n",
    "\n",
    "a_unique = prepare_array(a, N)\n",
    "bins, bin_borders, bin_centers = prepare_bins(a_unique, N)\n",
    "plot(a_unique, bin_borders, bin_centers)"
   ]
  },
  {
   "cell_type": "code",
   "execution_count": 18,
   "metadata": {},
   "outputs": [
    {
     "data": {
      "image/png": "[encoded data removed]",
      "text/plain": [
       "<Figure size 1000x100 with 1 Axes>"
      ]
     },
     "metadata": {},
     "output_type": "display_data"
    }
   ],
   "source": [
    "bins = prepare_bins_n_observations(a_unique, N, show_plot=True)"
   ]
  },
  {
   "cell_type": "code",
   "execution_count": 20,
   "metadata": {},
   "outputs": [
    {
     "data": {
      "text/plain": [
       "array([1., 0., 0., 0., 1., 1., 1., 0., 0., 1., 0., 0., 0., 1., 1., 0., 1.])"
      ]
     },
     "execution_count": 20,
     "metadata": {},
     "output_type": "execute_result"
    }
   ],
   "source": [
    "get_selection_sequence(bins)"
   ]
  },
  {
   "cell_type": "markdown",
   "metadata": {},
   "source": [
    "# End"
   ]
  }
 ],
 "metadata": {
  "kernelspec": {
   "display_name": "Python 3",
   "language": "python",
   "name": "python3"
  },
  "language_info": {
   "codemirror_mode": {
    "name": "ipython",
    "version": 3
   },
   "file_extension": ".py",
   "mimetype": "text/x-python",
   "name": "python",
   "nbconvert_exporter": "python",
   "pygments_lexer": "ipython3",
   "version": "3.11.1"
  }
 },
 "nbformat": 4,
 "nbformat_minor": 2
}
