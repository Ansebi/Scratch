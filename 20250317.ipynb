{
 "cells": [
  {
   "cell_type": "code",
   "execution_count": 3,
   "metadata": {},
   "outputs": [],
   "source": [
    "import pandas as pd"
   ]
  },
  {
   "cell_type": "code",
   "execution_count": null,
   "metadata": {},
   "outputs": [],
   "source": [
    "ts\n",
    "user_id\n",
    "item_id"
   ]
  },
  {
   "cell_type": "code",
   "execution_count": null,
   "metadata": {},
   "outputs": [
    {
     "data": {
      "text/html": [
       "<div>\n",
       "<style scoped>\n",
       "    .dataframe tbody tr th:only-of-type {\n",
       "        vertical-align: middle;\n",
       "    }\n",
       "\n",
       "    .dataframe tbody tr th {\n",
       "        vertical-align: top;\n",
       "    }\n",
       "\n",
       "    .dataframe thead th {\n",
       "        text-align: right;\n",
       "    }\n",
       "</style>\n",
       "<table border=\"1\" class=\"dataframe\">\n",
       "  <thead>\n",
       "    <tr style=\"text-align: right;\">\n",
       "      <th></th>\n",
       "      <th>ts</th>\n",
       "      <th>user_id</th>\n",
       "      <th>item_id</th>\n",
       "      <th>action_type</th>\n",
       "    </tr>\n",
       "  </thead>\n",
       "  <tbody>\n",
       "    <tr>\n",
       "      <th>0</th>\n",
       "      <td>1</td>\n",
       "      <td>1</td>\n",
       "      <td>1</td>\n",
       "      <td>click</td>\n",
       "    </tr>\n",
       "    <tr>\n",
       "      <th>1</th>\n",
       "      <td>2</td>\n",
       "      <td>2</td>\n",
       "      <td>2</td>\n",
       "      <td>click</td>\n",
       "    </tr>\n",
       "    <tr>\n",
       "      <th>2</th>\n",
       "      <td>3</td>\n",
       "      <td>3</td>\n",
       "      <td>3</td>\n",
       "      <td>na</td>\n",
       "    </tr>\n",
       "  </tbody>\n",
       "</table>\n",
       "</div>"
      ],
      "text/plain": [
       "   ts  user_id  item_id action_type\n",
       "0   1        1        1       click\n",
       "1   2        2        2       click\n",
       "2   3        3        3          na"
      ]
     },
     "execution_count": 11,
     "metadata": {},
     "output_type": "execute_result"
    }
   ],
   "source": [
    "\n",
    "df"
   ]
  },
  {
   "cell_type": "code",
   "execution_count": null,
   "metadata": {},
   "outputs": [],
   "source": [
    "df = {\n",
    "    'ts': [1, 2, 3],\n",
    "    'user_id': [1, 1, 2, 3],\n",
    "    'item_id': [9, 1, 2, 3],\n",
    "    'action_type': ['na', 'click', 'click', 'na']\n",
    "}\n",
    "df = pd.DataFrame(df)\n",
    "\n",
    "groupped = df\\\n",
    "    .query('action_type == \"click\"')\\\n",
    "    .groupby('user_id', as_index=False)\n",
    "\n",
    "groups = []\n",
    "for name, group in groupped:\n",
    "    group\\\n",
    "        .sort_values('ts', ascending=False).iloc[0]\n",
    "    groups.append(group)\n",
    "df_click = pd.concat(groups)\n",
    "\n",
    "empty_users = df.query('action_type != \"click\"')['user_id'].unique()\n",
    "df_empty_users = df[df['user_id'].isin(empty_users)].copy()\n",
    "df_empty_users['item_id'] = None\n",
    "\n",
    "df_final = pd.concat([df_click, df_empty_users])"
   ]
  },
  {
   "cell_type": "code",
   "execution_count": null,
   "metadata": {},
   "outputs": [],
   "source": []
  },
  {
   "cell_type": "code",
   "execution_count": 32,
   "metadata": {},
   "outputs": [],
   "source": [
    "nums = [1, 2, 3, 4]"
   ]
  },
  {
   "cell_type": "code",
   "execution_count": null,
   "metadata": {},
   "outputs": [],
   "source": [
    "[2, 0]"
   ]
  },
  {
   "cell_type": "code",
   "execution_count": 34,
   "metadata": {},
   "outputs": [],
   "source": [
    "def solution(nums: list):\n",
    "    if len(nums) == 2:\n",
    "        return nums[0] * nums[1]\n",
    "    \n",
    "    largest_positive = nums[0]\n",
    "    second_largest_positive = nums[0]\n",
    "    smallest_negative = nums[0]\n",
    "    second_smallest_negative = nums[0]\n",
    "\n",
    "    count_negatives = 0\n",
    "    for num in nums[1:]:\n",
    "        if num >= 0:\n",
    "            if num > largest_positive:\n",
    "                second_largest_positive = largest_positive\n",
    "                largest_positive = num\n",
    "            elif num > second_largest_positive:\n",
    "                second_largest_positive = num\n",
    "            if second_largest_positive == largest_positive:\n",
    "                if num != second_largest_positive:\n",
    "                    second_largest_positive = num\n",
    "        else:\n",
    "            count_negatives += 1\n",
    "            if num < smallest_negative:\n",
    "                second_smallest_negative = smallest_negative\n",
    "                smallest_negative = num\n",
    "            elif num < second_smallest_negative:\n",
    "                second_smallest_negative = num\n",
    "            if second_smallest_negative == largest_positive:\n",
    "                if num != second_smallest_negative:\n",
    "                    second_smallest_negative = num\n",
    "\n",
    "    if count_negatives < 2:\n",
    "        return largest_positive * second_largest_positive\n",
    "    elif count_negatives >=2:\n",
    "        option_positives = largest_positive * second_largest_positive\n",
    "        option_negatives = smallest_negative * second_smallest_negative\n",
    "        if option_positives > option_negatives:\n",
    "            return option_positives\n",
    "        else:\n",
    "            return option_negatives"
   ]
  },
  {
   "cell_type": "code",
   "execution_count": 35,
   "metadata": {},
   "outputs": [
    {
     "data": {
      "text/plain": [
       "20"
      ]
     },
     "execution_count": 35,
     "metadata": {},
     "output_type": "execute_result"
    }
   ],
   "source": [
    "solution([0, 20, 20, 1])"
   ]
  }
 ],
 "metadata": {
  "kernelspec": {
   "display_name": "Python 3",
   "language": "python",
   "name": "python3"
  },
  "language_info": {
   "codemirror_mode": {
    "name": "ipython",
    "version": 3
   },
   "file_extension": ".py",
   "mimetype": "text/x-python",
   "name": "python",
   "nbconvert_exporter": "python",
   "pygments_lexer": "ipython3",
   "version": "3.11.1"
  }
 },
 "nbformat": 4,
 "nbformat_minor": 2
}
