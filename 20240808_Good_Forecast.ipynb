{
 "cells": [
  {
   "attachments": {},
   "cell_type": "markdown",
   "metadata": {},
   "source": [
    "# Good Forecast"
   ]
  },
  {
   "attachments": {},
   "cell_type": "markdown",
   "metadata": {},
   "source": [
    "## 1"
   ]
  },
  {
   "cell_type": "code",
   "execution_count": 1,
   "metadata": {},
   "outputs": [],
   "source": [
    "# Python (задача на реализацию)\n",
    "\n",
    "# 1. Написать функцию is_promo(df, test_date):\n",
    "# есть ли в df хотя бы одна промо акция на момент test_date.\n",
    "# df таблица промо акций (PromoID, StartDate, EndDate),\n",
    "# даты проведения промо акций указаны включительно,\n",
    "# test_date — заданная дата для проверки.\n",
    "\n",
    "# 2. Затем нужно использовать эту функцию для вычисления\n",
    "# вектора значений result для всех test_date в заданном интервале\n",
    "# от test_start до test_end (включительно).\n",
    "\n",
    "# Пример для теста\n",
    "\n",
    "import pandas as pd\n",
    "import numpy as np\n",
    "\n",
    "data = {\n",
    "\t'StartDate': ['2024-02-10', '2024-02-15', '2024-02-20'],\n",
    "\t'EndDate': ['2024-02-12', '2024-02-18', '2024-02-22'],\n",
    "}\n",
    "\n",
    "df = pd.DataFrame(data)\n",
    "df['StartDate'] = pd.to_datetime(df['StartDate'])\n",
    "df['EndDate'] = pd.to_datetime(df['EndDate'])\n",
    "\n",
    "test_start = pd.to_datetime('2024-02-13')\n",
    "test_end = pd.to_datetime('2024-02-19')\n",
    "\n",
    "# Пример для пункта 1\n",
    "# print(is_promo(df, test_start))\n",
    "# False\n",
    "\n",
    "# Пример для пункта 2\n",
    "# print(is_promo_results)\n",
    "# [False, False, True, True, True, True, False]"
   ]
  },
  {
   "cell_type": "code",
   "execution_count": 9,
   "metadata": {},
   "outputs": [
    {
     "data": {
      "text/plain": [
       "False"
      ]
     },
     "execution_count": 9,
     "metadata": {},
     "output_type": "execute_result"
    }
   ],
   "source": [
    "some_date = pd.Timestamp('now')\n",
    "\n",
    "def is_promo(df: pd.DataFrame, date: pd.Timestamp) -> bool:\n",
    "    for _, row in df.iterrows():\n",
    "        from_ = row['StartDate']\n",
    "        to_ = row['EndDate']\n",
    "        date_range_n = pd.date_range(from_, to_)\n",
    "        if date in date_range_n:\n",
    "            return True\n",
    "    return False\n",
    "\n",
    "is_promo(df, some_date)"
   ]
  },
  {
   "cell_type": "code",
   "execution_count": 13,
   "metadata": {},
   "outputs": [
    {
     "data": {
      "text/plain": [
       "[False, False, True, True, True, True, False]"
      ]
     },
     "execution_count": 13,
     "metadata": {},
     "output_type": "execute_result"
    }
   ],
   "source": [
    "test_range = pd.date_range(test_start, test_end)\n",
    "[is_promo(df, date) for date in test_range]"
   ]
  },
  {
   "attachments": {},
   "cell_type": "markdown",
   "metadata": {},
   "source": [
    "## 2"
   ]
  },
  {
   "cell_type": "code",
   "execution_count": 59,
   "metadata": {},
   "outputs": [
    {
     "name": "stdout",
     "output_type": "stream",
     "text": [
      "[0, 1]\n",
      "[1, 2]\n",
      "[0, 1]\n"
     ]
    }
   ],
   "source": [
    "# Python (задача на алгоритмы)\n",
    "\n",
    "# Дан массив целых чисел nums и целое число target.\n",
    "# Верните индексы двух чисел таким образом,\n",
    "# чтобы сумма чисел была равна target.\n",
    "\n",
    "# Можно предположить, что каждый входной набор данных\n",
    "# имеет ровно одно решение, и вы не можете использовать\n",
    "# один и тот же элемент дважды.\n",
    "\n",
    "# Ответ можно вернуть в любом порядке.\n",
    "\n",
    "# def find_indexes(nums, target):\n",
    "# \tpass\n",
    "\n",
    "nums = [2,7,11,15]\n",
    "target = 9\n",
    "print(find_indexes(nums, target))\n",
    "# [0,1]\n",
    "\n",
    "nums = [3,2,4]\n",
    "target = 6\n",
    "print(find_indexes(nums, target))\n",
    "# [1,2]\n",
    "\n",
    "nums = [3,3]\n",
    "target = 6\n",
    "print(find_indexes(nums, target))\n",
    "# [0,1]"
   ]
  },
  {
   "cell_type": "code",
   "execution_count": 60,
   "metadata": {},
   "outputs": [
    {
     "data": {
      "text/plain": [
       "[0, 1]"
      ]
     },
     "execution_count": 60,
     "metadata": {},
     "output_type": "execute_result"
    }
   ],
   "source": [
    "nums = [2, 1, 3, 7]\n",
    "target = 5\n",
    "\n",
    "def find_indexes(nums, target):\n",
    "    results = []\n",
    "    results_for_halves = []\n",
    "    for n, num in enumerate(nums):\n",
    "        if num == target / 2:\n",
    "            results_for_halves.append(n)\n",
    "            if len(results_for_halves) == 2:\n",
    "                return results_for_halves\n",
    "\n",
    "    diffs = {}\n",
    "    for num in nums:\n",
    "        diffs[num] = target - num\n",
    "\n",
    "    for n, num in enumerate(nums):\n",
    "        if num in diffs and num != target / 2:\n",
    "            if n not in results:\n",
    "                results.append(n)\n",
    "                if len(results) == 2:\n",
    "                    return results\n",
    "    return results\n",
    "\n",
    "find_indexes(nums, target)\n"
   ]
  },
  {
   "cell_type": "code",
   "execution_count": null,
   "metadata": {},
   "outputs": [],
   "source": [
    "def find_indexes(nums, target):\n",
    "    num_to_index = {}\n",
    "    for i, num in enumerate(nums):\n",
    "        complement = target - num\n",
    "        if complement in num_to_index:\n",
    "            return [num_to_index[complement], i]\n",
    "        num_to_index[num] = i\n",
    "    return []    "
   ]
  },
  {
   "cell_type": "code",
   "execution_count": 66,
   "metadata": {},
   "outputs": [
    {
     "name": "stdout",
     "output_type": "stream",
     "text": [
      "CPU times: total: 0 ns\n",
      "Wall time: 0 ns\n"
     ]
    }
   ],
   "source": [
    "%time\n",
    "for _ in range(10**8):\n",
    "    1 in [1, 2, 3]"
   ]
  },
  {
   "cell_type": "code",
   "execution_count": 68,
   "metadata": {},
   "outputs": [
    {
     "name": "stdout",
     "output_type": "stream",
     "text": [
      "CPU times: total: 0 ns\n",
      "Wall time: 0 ns\n"
     ]
    }
   ],
   "source": [
    "%time\n",
    "for _ in range(10**8):\n",
    "    1 in {1:'', 2:'', 3:''}"
   ]
  },
  {
   "cell_type": "code",
   "execution_count": 69,
   "metadata": {},
   "outputs": [],
   "source": [
    "list_ = list(range(10**6))\n",
    "dict_ = {i: '' for i in range(10**6)}"
   ]
  },
  {
   "cell_type": "code",
   "execution_count": 72,
   "metadata": {},
   "outputs": [
    {
     "name": "stdout",
     "output_type": "stream",
     "text": [
      "CPU times: total: 0 ns\n",
      "Wall time: 0 ns\n"
     ]
    }
   ],
   "source": [
    "%time\n",
    "for _ in range(10**4):\n",
    "    10**5 in list_ "
   ]
  },
  {
   "cell_type": "code",
   "execution_count": 76,
   "metadata": {},
   "outputs": [
    {
     "name": "stdout",
     "output_type": "stream",
     "text": [
      "CPU times: total: 0 ns\n",
      "Wall time: 0 ns\n"
     ]
    }
   ],
   "source": [
    "%time\n",
    "for _ in range(10**8):\n",
    "    10**5 in dict_"
   ]
  }
 ],
 "metadata": {
  "kernelspec": {
   "display_name": "Python 3",
   "language": "python",
   "name": "python3"
  },
  "language_info": {
   "codemirror_mode": {
    "name": "ipython",
    "version": 3
   },
   "file_extension": ".py",
   "mimetype": "text/x-python",
   "name": "python",
   "nbconvert_exporter": "python",
   "pygments_lexer": "ipython3",
   "version": "3.11.1"
  },
  "orig_nbformat": 4
 },
 "nbformat": 4,
 "nbformat_minor": 2
}
