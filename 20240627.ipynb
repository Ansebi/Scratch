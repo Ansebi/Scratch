{
 "cells": [
  {
   "cell_type": "code",
   "execution_count": 9,
   "metadata": {},
   "outputs": [
    {
     "data": {
      "text/plain": [
       "[6, 3, 2]"
      ]
     },
     "execution_count": 9,
     "metadata": {},
     "output_type": "execute_result"
    }
   ],
   "source": [
    "arr = [1, 2, 3]\n",
    "\n",
    "product = 1\n",
    "zeros = 0\n",
    "for i in arr:\n",
    "    if i:\n",
    "        product *= i\n",
    "    else:\n",
    "        zeros += 1\n",
    "\n",
    "\n",
    "answer = []\n",
    "\n",
    "if not zeros:\n",
    "    for i in arr:\n",
    "        answer.append(product // i)\n",
    "elif zeros == 1:\n",
    "    for i in arr:\n",
    "        if i:\n",
    "            answer.append(0)\n",
    "        else:\n",
    "            answer.append(product)\n",
    "else:\n",
    "    answer = [0 for i in range(len(arr))]\n",
    "\n",
    "\n",
    "answer"
   ]
  }
 ],
 "metadata": {
  "kernelspec": {
   "display_name": "Python 3",
   "language": "python",
   "name": "python3"
  },
  "language_info": {
   "codemirror_mode": {
    "name": "ipython",
    "version": 3
   },
   "file_extension": ".py",
   "mimetype": "text/x-python",
   "name": "python",
   "nbconvert_exporter": "python",
   "pygments_lexer": "ipython3",
   "version": "3.11.1"
  },
  "orig_nbformat": 4
 },
 "nbformat": 4,
 "nbformat_minor": 2
}
