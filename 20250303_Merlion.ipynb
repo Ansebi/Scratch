{
 "cells": [
  {
   "cell_type": "code",
   "execution_count": 6,
   "metadata": {},
   "outputs": [
    {
     "name": "stdout",
     "output_type": "stream",
     "text": [
      "{1: 'a', 2: 'b', 3: 'c', 4: 'd'}\n",
      "False\n"
     ]
    }
   ],
   "source": [
    "from copy import deepcopy\n",
    "\n",
    "def transformator(some_dict: dict[int, str]) -> dict[int, str]:\n",
    "    some_dict[99] = 'z'\n",
    "    return some_dict\n",
    "\n",
    "a = dict(enumerate(['a', 'b', 'c', 'd'], start=1))\n",
    "b = transformator(deepcopy(a))\n",
    "\n",
    "print(a) #-> \n",
    "print(a==b) # ->\n",
    "\n"
   ]
  },
  {
   "cell_type": "code",
   "execution_count": 3,
   "metadata": {},
   "outputs": [
    {
     "name": "stdout",
     "output_type": "stream",
     "text": [
      "False\n"
     ]
    }
   ],
   "source": [
    "def transformator(some_string: str) -> str:\n",
    "    some_string += 'z'\n",
    "    return some_string\n",
    "\n",
    "a = 'abcd'\n",
    "b = transformator(a)\n",
    "\n",
    "print(a==b) # ->"
   ]
  },
  {
   "cell_type": "code",
   "execution_count": 7,
   "metadata": {},
   "outputs": [],
   "source": [
    "text = '''This is a simple text which means nothing, and this thing will mean nothing after all. It is not even a text. It is nothing!''' "
   ]
  },
  {
   "cell_type": "code",
   "execution_count": 30,
   "metadata": {},
   "outputs": [],
   "source": [
    "class TextProcessing:\n",
    "    def __init__(self, text: str, n: int):\n",
    "        self.text = text\n",
    "        self.n = n\n",
    "\n",
    "    def get_n_repeats(self):\n",
    "        alphabet = 'abcdefghijklmnopqrstuvwxyz '\n",
    "        clean_text = self.text.lower()\n",
    "        clean_text = ''.join([char for char in clean_text if char in alphabet])\n",
    "        list_text = clean_text.split(' ')\n",
    "        dict_count = {}\n",
    "        for word in list_text:\n",
    "            if word not in dict_count:\n",
    "                dict_count[word] = 1\n",
    "            else:\n",
    "                dict_count[word] += 1\n",
    "        answer = [word for (word, count) in dict_count.items() if count == self.n]\n",
    "        return answer"
   ]
  },
  {
   "cell_type": "code",
   "execution_count": null,
   "metadata": {},
   "outputs": [],
   "source": [
    "tp = TextProcessing(text, 3)\n",
    "tp.get_n_repeats()"
   ]
  }
 ],
 "metadata": {
  "kernelspec": {
   "display_name": "Python 3",
   "language": "python",
   "name": "python3"
  },
  "language_info": {
   "codemirror_mode": {
    "name": "ipython",
    "version": 3
   },
   "file_extension": ".py",
   "mimetype": "text/x-python",
   "name": "python",
   "nbconvert_exporter": "python",
   "pygments_lexer": "ipython3",
   "version": "3.11.1"
  }
 },
 "nbformat": 4,
 "nbformat_minor": 2
}
